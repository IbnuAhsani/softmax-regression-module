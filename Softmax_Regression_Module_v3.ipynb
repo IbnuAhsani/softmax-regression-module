{
  "nbformat": 4,
  "nbformat_minor": 0,
  "metadata": {
    "colab": {
      "name": "ScikitLearn - Multinomial Logistic Regression.ipynb",
      "provenance": [],
      "collapsed_sections": []
    },
    "kernelspec": {
      "name": "python3",
      "display_name": "Python 3"
    }
  },
  "cells": [
    {
      "cell_type": "markdown",
      "metadata": {
        "id": "oHSxa8uUdWjl",
        "colab_type": "text"
      },
      "source": [
        "[**The link for the tutorial**](https://www.youtube.com/watch?v=2JiXktBn_2M)"
      ]
    },
    {
      "cell_type": "markdown",
      "metadata": {
        "id": "4r7DLOA2yYtH",
        "colab_type": "text"
      },
      "source": [
        "**Import Dependencies**"
      ]
    },
    {
      "cell_type": "code",
      "metadata": {
        "id": "dZYK8aFUU5-2",
        "colab_type": "code",
        "colab": {
          "base_uri": "https://localhost:8080/",
          "height": 139
        },
        "outputId": "5c5958f3-7ba9-4070-b567-e9abe9385331"
      },
      "source": [
        "import os\n",
        "import sys\n",
        "import pickle\n",
        "import time\n",
        "import pytz\n",
        "import datetime\n",
        "import numpy as np\n",
        "import pandas as pd\n",
        "import seaborn as sn\n",
        "import sklearn\n",
        "from io import StringIO\n",
        "from sklearn import metrics \n",
        "from matplotlib import pyplot as plt\n",
        "from imblearn.under_sampling import NearMiss\n",
        "from sklearn.metrics import confusion_matrix, classification_report\n",
        "from sklearn.model_selection import train_test_split, StratifiedKFold\n",
        "from sklearn.linear_model import LogisticRegression, SGDClassifier\n",
        "\n",
        "np.set_printoptions(threshold=sys.maxsize)\n",
        "\n",
        "%matplotlib inline"
      ],
      "execution_count": 1,
      "outputs": [
        {
          "output_type": "stream",
          "text": [
            "/usr/local/lib/python3.6/dist-packages/statsmodels/tools/_testing.py:19: FutureWarning: pandas.util.testing is deprecated. Use the functions in the public API at pandas.testing instead.\n",
            "  import pandas.util.testing as tm\n",
            "/usr/local/lib/python3.6/dist-packages/sklearn/externals/six.py:31: FutureWarning: The module is deprecated in version 0.21 and will be removed in version 0.23 since we've dropped support for Python 2.7. Please rely on the official version of six (https://pypi.org/project/six/).\n",
            "  \"(https://pypi.org/project/six/).\", FutureWarning)\n",
            "/usr/local/lib/python3.6/dist-packages/sklearn/utils/deprecation.py:144: FutureWarning: The sklearn.neighbors.base module is  deprecated in version 0.22 and will be removed in version 0.24. The corresponding classes / functions should instead be imported from sklearn.neighbors. Anything that cannot be imported from sklearn.neighbors is now part of the private API.\n",
            "  warnings.warn(message, FutureWarning)\n"
          ],
          "name": "stderr"
        }
      ]
    },
    {
      "cell_type": "markdown",
      "metadata": {
        "id": "8bYFar44ia4N",
        "colab_type": "text"
      },
      "source": [
        "**Data Preprocessing**"
      ]
    },
    {
      "cell_type": "code",
      "metadata": {
        "id": "MIimC1Vqb2Zm",
        "colab_type": "code",
        "colab": {
          "base_uri": "https://localhost:8080/",
          "height": 34
        },
        "outputId": "74296082-e0f7-4528-945c-d88957be9533"
      },
      "source": [
        "data_frame = pd.read_csv('/content/drive/My Drive/Colab Notebooks/Content-Based Recommender System Data/Hypothesis Data/data-23-tf-idf-150-feature-final.csv', header=None, sep=',')\n",
        "# data_frame = pd.read_csv('/content/drive/My Drive/Colab Notebooks/Content-Based Recommender System Data/Sample Data/data-3-journals-similar-tf-idf-value-50-feature.csv', header=None, sep=',')\n",
        "data_frame.shape"
      ],
      "execution_count": 2,
      "outputs": [
        {
          "output_type": "execute_result",
          "data": {
            "text/plain": [
              "(7897, 1573)"
            ]
          },
          "metadata": {
            "tags": []
          },
          "execution_count": 2
        }
      ]
    },
    {
      "cell_type": "code",
      "metadata": {
        "id": "okaeWy0TUHZY",
        "colab_type": "code",
        "colab": {
          "base_uri": "https://localhost:8080/",
          "height": 102
        },
        "outputId": "f499187a-4cd2-4de7-8c7f-f21b98c58896"
      },
      "source": [
        "header = []\n",
        "\n",
        "for i in range(len(data_frame.columns)-1):\n",
        "  header.append(str(i))\n",
        "\n",
        "header.append('target')\n",
        "\n",
        "data_frame.columns = header\n",
        "print(data_frame.columns)"
      ],
      "execution_count": 3,
      "outputs": [
        {
          "output_type": "stream",
          "text": [
            "Index(['0', '1', '2', '3', '4', '5', '6', '7', '8', '9',\n",
            "       ...\n",
            "       '1563', '1564', '1565', '1566', '1567', '1568', '1569', '1570', '1571',\n",
            "       'target'],\n",
            "      dtype='object', length=1573)\n"
          ],
          "name": "stdout"
        }
      ]
    },
    {
      "cell_type": "code",
      "metadata": {
        "id": "oWx89HzCJ4l5",
        "colab_type": "code",
        "colab": {
          "base_uri": "https://localhost:8080/",
          "height": 238
        },
        "outputId": "db12d574-ebd9-43c4-945f-c9fa0837e20d"
      },
      "source": [
        "data_frame['target'].value_counts()"
      ],
      "execution_count": 4,
      "outputs": [
        {
          "output_type": "execute_result",
          "data": {
            "text/plain": [
              "8     1641\n",
              "0      763\n",
              "1      754\n",
              "4      639\n",
              "2      599\n",
              "5      595\n",
              "3      536\n",
              "6      525\n",
              "7      500\n",
              "10     464\n",
              "9      444\n",
              "11     437\n",
              "Name: target, dtype: int64"
            ]
          },
          "metadata": {
            "tags": []
          },
          "execution_count": 4
        }
      ]
    },
    {
      "cell_type": "code",
      "metadata": {
        "id": "UV-VwBboY5x0",
        "colab_type": "code",
        "colab": {
          "base_uri": "https://localhost:8080/",
          "height": 325
        },
        "outputId": "f73ea044-5ad8-4b52-e9cc-7ef54a2d7706"
      },
      "source": [
        "ax = data_frame['target'].value_counts().plot(kind='bar', figsize=(7,5), fontsize=12);\n",
        "ax.set_alpha(0.8)\n",
        "\n",
        "totals = []\n",
        "\n",
        "for i in ax.patches:\n",
        "    totals.append(i.get_height())\n",
        "\n",
        "total = sum(totals)\n",
        "\n",
        "for i in ax.patches:\n",
        "    ax.text(i.get_x()-.03, i.get_height()+.5, i.get_height(), fontsize=10)"
      ],
      "execution_count": 5,
      "outputs": [
        {
          "output_type": "display_data",
          "data": {
            "image/png": "[encoded data removed]",
            "text/plain": [
              "<Figure size 504x360 with 1 Axes>"
            ]
          },
          "metadata": {
            "tags": [],
            "needs_background": "light"
          }
        }
      ]
    },
    {
      "cell_type": "code",
      "metadata": {
        "id": "EVkxz906Xaw4",
        "colab_type": "code",
        "colab": {
          "base_uri": "https://localhost:8080/",
          "height": 513
        },
        "outputId": "2c50e0fc-c1d2-4487-e41e-d282cb714acf"
      },
      "source": [
        "data_labels = data_frame['target']\n",
        "data_features = data_frame.drop('target',axis=1)\n",
        "\n",
        "near_miss = NearMiss(version=2)\n",
        "x_undersampled, y_undersampled = near_miss.fit_sample(data_features, data_labels)\n",
        "\n",
        "print(x_undersampled.shape)\n",
        "print(y_undersampled.shape)"
      ],
      "execution_count": 6,
      "outputs": [
        {
          "output_type": "stream",
          "text": [
            "/usr/local/lib/python3.6/dist-packages/sklearn/utils/deprecation.py:87: FutureWarning: Function safe_indexing is deprecated; safe_indexing is deprecated in version 0.22 and will be removed in version 0.24.\n",
            "  warnings.warn(msg, category=FutureWarning)\n",
            "/usr/local/lib/python3.6/dist-packages/sklearn/utils/deprecation.py:87: FutureWarning: Function safe_indexing is deprecated; safe_indexing is deprecated in version 0.22 and will be removed in version 0.24.\n",
            "  warnings.warn(msg, category=FutureWarning)\n",
            "/usr/local/lib/python3.6/dist-packages/sklearn/utils/deprecation.py:87: FutureWarning: Function safe_indexing is deprecated; safe_indexing is deprecated in version 0.22 and will be removed in version 0.24.\n",
            "  warnings.warn(msg, category=FutureWarning)\n",
            "/usr/local/lib/python3.6/dist-packages/sklearn/utils/deprecation.py:87: FutureWarning: Function safe_indexing is deprecated; safe_indexing is deprecated in version 0.22 and will be removed in version 0.24.\n",
            "  warnings.warn(msg, category=FutureWarning)\n",
            "/usr/local/lib/python3.6/dist-packages/sklearn/utils/deprecation.py:87: FutureWarning: Function safe_indexing is deprecated; safe_indexing is deprecated in version 0.22 and will be removed in version 0.24.\n",
            "  warnings.warn(msg, category=FutureWarning)\n",
            "/usr/local/lib/python3.6/dist-packages/sklearn/utils/deprecation.py:87: FutureWarning: Function safe_indexing is deprecated; safe_indexing is deprecated in version 0.22 and will be removed in version 0.24.\n",
            "  warnings.warn(msg, category=FutureWarning)\n",
            "/usr/local/lib/python3.6/dist-packages/sklearn/utils/deprecation.py:87: FutureWarning: Function safe_indexing is deprecated; safe_indexing is deprecated in version 0.22 and will be removed in version 0.24.\n",
            "  warnings.warn(msg, category=FutureWarning)\n",
            "/usr/local/lib/python3.6/dist-packages/sklearn/utils/deprecation.py:87: FutureWarning: Function safe_indexing is deprecated; safe_indexing is deprecated in version 0.22 and will be removed in version 0.24.\n",
            "  warnings.warn(msg, category=FutureWarning)\n",
            "/usr/local/lib/python3.6/dist-packages/sklearn/utils/deprecation.py:87: FutureWarning: Function safe_indexing is deprecated; safe_indexing is deprecated in version 0.22 and will be removed in version 0.24.\n",
            "  warnings.warn(msg, category=FutureWarning)\n",
            "/usr/local/lib/python3.6/dist-packages/sklearn/utils/deprecation.py:87: FutureWarning: Function safe_indexing is deprecated; safe_indexing is deprecated in version 0.22 and will be removed in version 0.24.\n",
            "  warnings.warn(msg, category=FutureWarning)\n",
            "/usr/local/lib/python3.6/dist-packages/sklearn/utils/deprecation.py:87: FutureWarning: Function safe_indexing is deprecated; safe_indexing is deprecated in version 0.22 and will be removed in version 0.24.\n",
            "  warnings.warn(msg, category=FutureWarning)\n",
            "/usr/local/lib/python3.6/dist-packages/sklearn/utils/deprecation.py:87: FutureWarning: Function safe_indexing is deprecated; safe_indexing is deprecated in version 0.22 and will be removed in version 0.24.\n",
            "  warnings.warn(msg, category=FutureWarning)\n"
          ],
          "name": "stderr"
        },
        {
          "output_type": "stream",
          "text": [
            "(5244, 1572)\n",
            "(5244,)\n"
          ],
          "name": "stdout"
        },
        {
          "output_type": "stream",
          "text": [
            "/usr/local/lib/python3.6/dist-packages/sklearn/utils/deprecation.py:87: FutureWarning: Function safe_indexing is deprecated; safe_indexing is deprecated in version 0.22 and will be removed in version 0.24.\n",
            "  warnings.warn(msg, category=FutureWarning)\n"
          ],
          "name": "stderr"
        }
      ]
    },
    {
      "cell_type": "code",
      "metadata": {
        "id": "MjaybCD6YGKq",
        "colab_type": "code",
        "colab": {
          "base_uri": "https://localhost:8080/",
          "height": 34
        },
        "outputId": "55ee9d37-e3ce-4d98-e068-72f96aa017f4"
      },
      "source": [
        "data_features_df = pd.DataFrame(data = x_undersampled[0:,0:], \n",
        "                                index = [i for i in range(x_undersampled.shape[0])],\n",
        "                                columns = [str(i) for i in range(x_undersampled.shape[1])])\n",
        "\n",
        "data_labels_df = pd.DataFrame(data = y_undersampled[0:], \n",
        "                                index = [i for i in range(y_undersampled.shape[0])],\n",
        "                                columns = ['target'])\n",
        "\n",
        "data_frame_undersampled = data_features_df.join(data_labels_df)\n",
        "data_frame_undersampled.shape"
      ],
      "execution_count": 7,
      "outputs": [
        {
          "output_type": "execute_result",
          "data": {
            "text/plain": [
              "(5244, 1573)"
            ]
          },
          "metadata": {
            "tags": []
          },
          "execution_count": 7
        }
      ]
    },
    {
      "cell_type": "code",
      "metadata": {
        "id": "n4lNDqx94fMb",
        "colab_type": "code",
        "colab": {
          "base_uri": "https://localhost:8080/",
          "height": 325
        },
        "outputId": "707f3e23-8cdf-4292-f958-ba32ddcc62b8"
      },
      "source": [
        "ax = data_frame_undersampled['target'].value_counts().plot(kind='bar', figsize=(7,5), fontsize=12);\n",
        "ax.set_alpha(0.8)\n",
        "\n",
        "totals = []\n",
        "\n",
        "for i in ax.patches:\n",
        "    totals.append(i.get_height())\n",
        "\n",
        "total = sum(totals)\n",
        "\n",
        "for i in ax.patches:\n",
        "    ax.text(i.get_x()-.03, i.get_height()+.5, i.get_height(), fontsize=10)"
      ],
      "execution_count": 8,
      "outputs": [
        {
          "output_type": "display_data",
          "data": {
            "image/png": "[encoded data removed]",
            "text/plain": [
              "<Figure size 504x360 with 1 Axes>"
            ]
          },
          "metadata": {
            "tags": [],
            "needs_background": "light"
          }
        }
      ]
    },
    {
      "cell_type": "code",
      "metadata": {
        "id": "jXQ1X_cyuYR-",
        "colab_type": "code",
        "colab": {
          "base_uri": "https://localhost:8080/",
          "height": 191
        },
        "outputId": "ebe0fc4c-92e9-4b59-da21-b1ecdecdced0"
      },
      "source": [
        "data_frame_shuffled_once = data_frame_undersampled.sample(frac=1)\n",
        "data_frame_shuffled_twice = data_frame_shuffled_once.sample(frac=1)\n",
        "data_frame_shuffled_twice.sample(3)"
      ],
      "execution_count": 9,
      "outputs": [
        {
          "output_type": "execute_result",
          "data": {
            "text/html": [
              "<div>\n",
              "<style scoped>\n",
              "    .dataframe tbody tr th:only-of-type {\n",
              "        vertical-align: middle;\n",
              "    }\n",
              "\n",
              "    .dataframe tbody tr th {\n",
              "        vertical-align: top;\n",
              "    }\n",
              "\n",
              "    .dataframe thead th {\n",
              "        text-align: right;\n",
              "    }\n",
              "</style>\n",
              "<table border=\"1\" class=\"dataframe\">\n",
              "  <thead>\n",
              "    <tr style=\"text-align: right;\">\n",
              "      <th></th>\n",
              "      <th>0</th>\n",
              "      <th>1</th>\n",
              "      <th>2</th>\n",
              "      <th>3</th>\n",
              "      <th>4</th>\n",
              "      <th>5</th>\n",
              "      <th>6</th>\n",
              "      <th>7</th>\n",
              "      <th>8</th>\n",
              "      <th>9</th>\n",
              "      <th>10</th>\n",
              "      <th>11</th>\n",
              "      <th>12</th>\n",
              "      <th>13</th>\n",
              "      <th>14</th>\n",
              "      <th>15</th>\n",
              "      <th>16</th>\n",
              "      <th>17</th>\n",
              "      <th>18</th>\n",
              "      <th>19</th>\n",
              "      <th>20</th>\n",
              "      <th>21</th>\n",
              "      <th>22</th>\n",
              "      <th>23</th>\n",
              "      <th>24</th>\n",
              "      <th>25</th>\n",
              "      <th>26</th>\n",
              "      <th>27</th>\n",
              "      <th>28</th>\n",
              "      <th>29</th>\n",
              "      <th>30</th>\n",
              "      <th>31</th>\n",
              "      <th>32</th>\n",
              "      <th>33</th>\n",
              "      <th>34</th>\n",
              "      <th>35</th>\n",
              "      <th>36</th>\n",
              "      <th>37</th>\n",
              "      <th>38</th>\n",
              "      <th>39</th>\n",
              "      <th>...</th>\n",
              "      <th>1533</th>\n",
              "      <th>1534</th>\n",
              "      <th>1535</th>\n",
              "      <th>1536</th>\n",
              "      <th>1537</th>\n",
              "      <th>1538</th>\n",
              "      <th>1539</th>\n",
              "      <th>1540</th>\n",
              "      <th>1541</th>\n",
              "      <th>1542</th>\n",
              "      <th>1543</th>\n",
              "      <th>1544</th>\n",
              "      <th>1545</th>\n",
              "      <th>1546</th>\n",
              "      <th>1547</th>\n",
              "      <th>1548</th>\n",
              "      <th>1549</th>\n",
              "      <th>1550</th>\n",
              "      <th>1551</th>\n",
              "      <th>1552</th>\n",
              "      <th>1553</th>\n",
              "      <th>1554</th>\n",
              "      <th>1555</th>\n",
              "      <th>1556</th>\n",
              "      <th>1557</th>\n",
              "      <th>1558</th>\n",
              "      <th>1559</th>\n",
              "      <th>1560</th>\n",
              "      <th>1561</th>\n",
              "      <th>1562</th>\n",
              "      <th>1563</th>\n",
              "      <th>1564</th>\n",
              "      <th>1565</th>\n",
              "      <th>1566</th>\n",
              "      <th>1567</th>\n",
              "      <th>1568</th>\n",
              "      <th>1569</th>\n",
              "      <th>1570</th>\n",
              "      <th>1571</th>\n",
              "      <th>target</th>\n",
              "    </tr>\n",
              "  </thead>\n",
              "  <tbody>\n",
              "    <tr>\n",
              "      <th>2028</th>\n",
              "      <td>0.0</td>\n",
              "      <td>0.0</td>\n",
              "      <td>0.0</td>\n",
              "      <td>0.0</td>\n",
              "      <td>0.0</td>\n",
              "      <td>0.0</td>\n",
              "      <td>0.0</td>\n",
              "      <td>0.000000</td>\n",
              "      <td>0.0</td>\n",
              "      <td>0.0</td>\n",
              "      <td>0.0</td>\n",
              "      <td>0.0</td>\n",
              "      <td>0.0</td>\n",
              "      <td>0.0</td>\n",
              "      <td>0.0</td>\n",
              "      <td>0.0</td>\n",
              "      <td>0.0</td>\n",
              "      <td>0.0</td>\n",
              "      <td>0.0</td>\n",
              "      <td>0.0</td>\n",
              "      <td>0.0</td>\n",
              "      <td>0.000000</td>\n",
              "      <td>0.0</td>\n",
              "      <td>0.0</td>\n",
              "      <td>0.0</td>\n",
              "      <td>0.0</td>\n",
              "      <td>0.0</td>\n",
              "      <td>0.0</td>\n",
              "      <td>0.000000</td>\n",
              "      <td>0.0</td>\n",
              "      <td>0.0</td>\n",
              "      <td>0.0</td>\n",
              "      <td>0.0</td>\n",
              "      <td>0.0</td>\n",
              "      <td>0.0</td>\n",
              "      <td>0.0</td>\n",
              "      <td>0.0</td>\n",
              "      <td>0.0</td>\n",
              "      <td>0.0</td>\n",
              "      <td>0.0</td>\n",
              "      <td>...</td>\n",
              "      <td>0.0</td>\n",
              "      <td>0.0</td>\n",
              "      <td>0.0</td>\n",
              "      <td>0.0</td>\n",
              "      <td>0.0</td>\n",
              "      <td>0.0</td>\n",
              "      <td>0.0</td>\n",
              "      <td>0.0</td>\n",
              "      <td>0.0</td>\n",
              "      <td>0.0</td>\n",
              "      <td>0.000000</td>\n",
              "      <td>0.0</td>\n",
              "      <td>0.0</td>\n",
              "      <td>0.0</td>\n",
              "      <td>0.0</td>\n",
              "      <td>0.0</td>\n",
              "      <td>0.0</td>\n",
              "      <td>0.0</td>\n",
              "      <td>0.0</td>\n",
              "      <td>0.0</td>\n",
              "      <td>0.0</td>\n",
              "      <td>0.0</td>\n",
              "      <td>0.0</td>\n",
              "      <td>0.0</td>\n",
              "      <td>0.0</td>\n",
              "      <td>0.0</td>\n",
              "      <td>0.0</td>\n",
              "      <td>0.0</td>\n",
              "      <td>0.0</td>\n",
              "      <td>0.0</td>\n",
              "      <td>0.0</td>\n",
              "      <td>0.0</td>\n",
              "      <td>0.0</td>\n",
              "      <td>0.0</td>\n",
              "      <td>0.0</td>\n",
              "      <td>0.0</td>\n",
              "      <td>0.0</td>\n",
              "      <td>0.0</td>\n",
              "      <td>0.0</td>\n",
              "      <td>4</td>\n",
              "    </tr>\n",
              "    <tr>\n",
              "      <th>2938</th>\n",
              "      <td>0.0</td>\n",
              "      <td>0.0</td>\n",
              "      <td>0.0</td>\n",
              "      <td>0.0</td>\n",
              "      <td>0.0</td>\n",
              "      <td>0.0</td>\n",
              "      <td>0.0</td>\n",
              "      <td>-0.005575</td>\n",
              "      <td>0.0</td>\n",
              "      <td>0.0</td>\n",
              "      <td>0.0</td>\n",
              "      <td>0.0</td>\n",
              "      <td>0.0</td>\n",
              "      <td>0.0</td>\n",
              "      <td>0.0</td>\n",
              "      <td>0.0</td>\n",
              "      <td>0.0</td>\n",
              "      <td>0.0</td>\n",
              "      <td>0.0</td>\n",
              "      <td>0.0</td>\n",
              "      <td>0.0</td>\n",
              "      <td>-0.005575</td>\n",
              "      <td>0.0</td>\n",
              "      <td>0.0</td>\n",
              "      <td>0.0</td>\n",
              "      <td>0.0</td>\n",
              "      <td>0.0</td>\n",
              "      <td>0.0</td>\n",
              "      <td>-0.005575</td>\n",
              "      <td>0.0</td>\n",
              "      <td>0.0</td>\n",
              "      <td>0.0</td>\n",
              "      <td>0.0</td>\n",
              "      <td>0.0</td>\n",
              "      <td>0.0</td>\n",
              "      <td>0.0</td>\n",
              "      <td>0.0</td>\n",
              "      <td>0.0</td>\n",
              "      <td>0.0</td>\n",
              "      <td>0.0</td>\n",
              "      <td>...</td>\n",
              "      <td>0.0</td>\n",
              "      <td>0.0</td>\n",
              "      <td>0.0</td>\n",
              "      <td>0.0</td>\n",
              "      <td>0.0</td>\n",
              "      <td>0.0</td>\n",
              "      <td>0.0</td>\n",
              "      <td>0.0</td>\n",
              "      <td>0.0</td>\n",
              "      <td>0.0</td>\n",
              "      <td>-0.005575</td>\n",
              "      <td>0.0</td>\n",
              "      <td>0.0</td>\n",
              "      <td>0.0</td>\n",
              "      <td>0.0</td>\n",
              "      <td>0.0</td>\n",
              "      <td>0.0</td>\n",
              "      <td>0.0</td>\n",
              "      <td>0.0</td>\n",
              "      <td>0.0</td>\n",
              "      <td>0.0</td>\n",
              "      <td>0.0</td>\n",
              "      <td>0.0</td>\n",
              "      <td>0.0</td>\n",
              "      <td>0.0</td>\n",
              "      <td>0.0</td>\n",
              "      <td>0.0</td>\n",
              "      <td>0.0</td>\n",
              "      <td>0.0</td>\n",
              "      <td>0.0</td>\n",
              "      <td>0.0</td>\n",
              "      <td>0.0</td>\n",
              "      <td>0.0</td>\n",
              "      <td>0.0</td>\n",
              "      <td>0.0</td>\n",
              "      <td>0.0</td>\n",
              "      <td>0.0</td>\n",
              "      <td>0.0</td>\n",
              "      <td>0.0</td>\n",
              "      <td>6</td>\n",
              "    </tr>\n",
              "    <tr>\n",
              "      <th>530</th>\n",
              "      <td>0.0</td>\n",
              "      <td>0.0</td>\n",
              "      <td>0.0</td>\n",
              "      <td>0.0</td>\n",
              "      <td>0.0</td>\n",
              "      <td>0.0</td>\n",
              "      <td>0.0</td>\n",
              "      <td>0.000000</td>\n",
              "      <td>0.0</td>\n",
              "      <td>0.0</td>\n",
              "      <td>0.0</td>\n",
              "      <td>0.0</td>\n",
              "      <td>0.0</td>\n",
              "      <td>0.0</td>\n",
              "      <td>0.0</td>\n",
              "      <td>0.0</td>\n",
              "      <td>0.0</td>\n",
              "      <td>0.0</td>\n",
              "      <td>0.0</td>\n",
              "      <td>0.0</td>\n",
              "      <td>0.0</td>\n",
              "      <td>0.000000</td>\n",
              "      <td>0.0</td>\n",
              "      <td>0.0</td>\n",
              "      <td>0.0</td>\n",
              "      <td>0.0</td>\n",
              "      <td>0.0</td>\n",
              "      <td>0.0</td>\n",
              "      <td>0.000000</td>\n",
              "      <td>0.0</td>\n",
              "      <td>0.0</td>\n",
              "      <td>0.0</td>\n",
              "      <td>0.0</td>\n",
              "      <td>0.0</td>\n",
              "      <td>0.0</td>\n",
              "      <td>0.0</td>\n",
              "      <td>0.0</td>\n",
              "      <td>0.0</td>\n",
              "      <td>0.0</td>\n",
              "      <td>0.0</td>\n",
              "      <td>...</td>\n",
              "      <td>0.0</td>\n",
              "      <td>0.0</td>\n",
              "      <td>0.0</td>\n",
              "      <td>0.0</td>\n",
              "      <td>0.0</td>\n",
              "      <td>0.0</td>\n",
              "      <td>0.0</td>\n",
              "      <td>0.0</td>\n",
              "      <td>0.0</td>\n",
              "      <td>0.0</td>\n",
              "      <td>0.000000</td>\n",
              "      <td>0.0</td>\n",
              "      <td>0.0</td>\n",
              "      <td>0.0</td>\n",
              "      <td>0.0</td>\n",
              "      <td>0.0</td>\n",
              "      <td>0.0</td>\n",
              "      <td>0.0</td>\n",
              "      <td>0.0</td>\n",
              "      <td>0.0</td>\n",
              "      <td>0.0</td>\n",
              "      <td>0.0</td>\n",
              "      <td>0.0</td>\n",
              "      <td>0.0</td>\n",
              "      <td>0.0</td>\n",
              "      <td>0.0</td>\n",
              "      <td>0.0</td>\n",
              "      <td>0.0</td>\n",
              "      <td>0.0</td>\n",
              "      <td>0.0</td>\n",
              "      <td>0.0</td>\n",
              "      <td>0.0</td>\n",
              "      <td>0.0</td>\n",
              "      <td>0.0</td>\n",
              "      <td>0.0</td>\n",
              "      <td>0.0</td>\n",
              "      <td>0.0</td>\n",
              "      <td>0.0</td>\n",
              "      <td>0.0</td>\n",
              "      <td>1</td>\n",
              "    </tr>\n",
              "  </tbody>\n",
              "</table>\n",
              "<p>3 rows × 1573 columns</p>\n",
              "</div>"
            ],
            "text/plain": [
              "        0    1    2    3    4    5  ...  1567  1568  1569  1570  1571  target\n",
              "2028  0.0  0.0  0.0  0.0  0.0  0.0  ...   0.0   0.0   0.0   0.0   0.0       4\n",
              "2938  0.0  0.0  0.0  0.0  0.0  0.0  ...   0.0   0.0   0.0   0.0   0.0       6\n",
              "530   0.0  0.0  0.0  0.0  0.0  0.0  ...   0.0   0.0   0.0   0.0   0.0       1\n",
              "\n",
              "[3 rows x 1573 columns]"
            ]
          },
          "metadata": {
            "tags": []
          },
          "execution_count": 9
        }
      ]
    },
    {
      "cell_type": "code",
      "metadata": {
        "id": "XGIRxoHmuzWt",
        "colab_type": "code",
        "colab": {}
      },
      "source": [
        "target_counts = data_frame['target'].value_counts()\n",
        "num_labels = target_counts.shape[0]\n",
        "num_features = data_frame.shape[1] - 1\n",
        "num_epoch = 1000\n",
        "num_k_splits = 10\n",
        "learning_rate = 0.0001"
      ],
      "execution_count": 10,
      "outputs": []
    },
    {
      "cell_type": "markdown",
      "metadata": {
        "id": "VWNm5jyryUuk",
        "colab_type": "text"
      },
      "source": [
        "**Helper Functions**"
      ]
    },
    {
      "cell_type": "code",
      "metadata": {
        "id": "ufPptjd5nJtV",
        "colab_type": "code",
        "colab": {}
      },
      "source": [
        "def to_onehot(y):\n",
        "  data = np.zeros((num_labels))\n",
        "  data[y] = 1\n",
        "  return data"
      ],
      "execution_count": 11,
      "outputs": []
    },
    {
      "cell_type": "code",
      "metadata": {
        "id": "gnawjgEpXCvO",
        "colab_type": "code",
        "colab": {}
      },
      "source": [
        "def to_label_list(results):\n",
        "  label_list = []\n",
        "\n",
        "  for result in results:\n",
        "    prediction_label = np.argmax(result)\n",
        "    label_list.append(prediction_label)\n",
        "  \n",
        "  return label_list"
      ],
      "execution_count": 12,
      "outputs": []
    },
    {
      "cell_type": "code",
      "metadata": {
        "id": "dMyzXzqdb_UQ",
        "colab_type": "code",
        "colab": {}
      },
      "source": [
        "def get_accuracy(labels, predictions):\n",
        "  test_batch_size = predictions.shape[0]\n",
        "  total_correct_prediction = np.sum(np.argmax(predictions, axis=1) == np.argmax(labels, axis=1))\n",
        "  accuracy = 100.0 * total_correct_prediction / test_batch_size  \n",
        "  \n",
        "  return accuracy"
      ],
      "execution_count": 13,
      "outputs": []
    },
    {
      "cell_type": "code",
      "metadata": {
        "id": "CNiaBnjdj1l8",
        "colab_type": "code",
        "colab": {}
      },
      "source": [
        "def get_fmeasure(labels, predictions):\n",
        "  \n",
        "  fmeasures = {}\n",
        "\n",
        "  for i in range(num_labels):\n",
        "    fmeasure_data_dict = {\n",
        "      \"gi\": 0,\n",
        "      \"pi_intersect_gi\": 0,\n",
        "    }\n",
        "\n",
        "    fmeasures[str(i)] = fmeasure_data_dict \n",
        "    fmeasure_data_dict = {}\n",
        "\n",
        "  for i in range(len(labels)):\n",
        "    label = labels[i]\n",
        "    prediction = predictions[i]\n",
        "    fmeasures[str(label)]['gi'] += 1\n",
        "\n",
        "    if prediction == label:\n",
        "      fmeasures[str(label)]['pi_intersect_gi'] += 1\n",
        "  \n",
        "  total_fmeasure_score = 0\n",
        "\n",
        "  for i in range(num_labels):\n",
        "    fmeasure_data = fmeasures[str(i)]\n",
        "    \n",
        "    gi = fmeasure_data['gi']\n",
        "    pi_intersect_gi = fmeasure_data['pi_intersect_gi']\n",
        "    \n",
        "    fmeasure_score = (2 * pi_intersect_gi)/(2 * gi)\n",
        "\n",
        "    # print('i: ', i)\n",
        "    # print('pi_intersect_gi: ', pi_intersect_gi)\n",
        "    # print('gi: ', gi)\n",
        "    # print('fmeasure_score: ', fmeasure_score)\n",
        "\n",
        "    total_fmeasure_score += fmeasure_score\n",
        "\n",
        "  fmeasure_score = total_fmeasure_score / num_labels\n",
        "\n",
        "  return fmeasure_score"
      ],
      "execution_count": 14,
      "outputs": []
    },
    {
      "cell_type": "code",
      "metadata": {
        "id": "Kr8I-3jd3Jvw",
        "colab_type": "code",
        "colab": {
          "base_uri": "https://localhost:8080/",
          "height": 597
        },
        "outputId": "9eb0b5bc-bf2d-4d80-ff1e-bd91af9fec69"
      },
      "source": [
        "data_labels = data_frame_shuffled_twice['target'].to_numpy()\n",
        "data_features = data_frame_shuffled_twice.drop('target',axis=1).to_numpy()\n",
        "\n",
        "fold_counter = 1\n",
        "strat_kfold = StratifiedKFold(n_splits= num_k_splits)\n",
        "\n",
        "for train_index, test_index in strat_kfold.split(data_features, data_labels):\n",
        "  \n",
        "  start_time = time.time()\n",
        "\n",
        "  print(\"\\n==================================\\n\")\n",
        "  print(\"Fold: %d\" % fold_counter)\n",
        "  print(\"\\n\")\n",
        "  \n",
        "  kfold_train_features = data_features[train_index]\n",
        "  kfold_train_labels = data_labels[train_index]\n",
        "\n",
        "  kfold_test_features = data_features[test_index]\n",
        "  kfold_test_labels = data_labels[test_index]\n",
        "  kfold_test_labels_onehot_encoded = np.array([to_onehot(label) for label in kfold_test_labels])\n",
        "\n",
        "  classifier = SGDClassifier(loss=\"log\",penalty=\"l2\",n_iter_no_change=num_epoch,alpha=learning_rate)\n",
        "  model = classifier.fit(kfold_train_features, kfold_train_labels)\n",
        "\n",
        "  test_prediction = model.predict(kfold_test_features)\n",
        "  test_prediction_proba = model.predict_proba(kfold_test_features)\n",
        "\n",
        "  test_accuracy = get_accuracy(kfold_test_labels_onehot_encoded, test_prediction_proba)\n",
        "  print('test_accuracy: ', test_accuracy)\n",
        "\n",
        "  data_test_label_list = to_label_list(kfold_test_labels_onehot_encoded)\n",
        "  test_predictions_label_list = to_label_list(test_prediction_proba)\n",
        "  test_fmeasure = get_fmeasure(data_test_label_list, test_predictions_label_list)\n",
        "  print('test_fmeasure: ', test_fmeasure)\n",
        "  print(\"\\n\")\n",
        "  \n",
        "  # classification report\n",
        "  # test_classification_report = classification_report(kfold_test_labels, test_prediction)\n",
        "  # print('classification report')\n",
        "  # print(test_classification_report)\n",
        "\n",
        "  test_confusion_matrix = confusion_matrix(kfold_test_labels, test_prediction)\n",
        "  confusion_matrix_df = pd.DataFrame(test_confusion_matrix, range(num_labels), range(num_labels))\n",
        "  \n",
        "  plt.figure(figsize=(8,5))\n",
        "  sn.set(font_scale=1.0)\n",
        "  sn.heatmap(confusion_matrix_df, annot=True, fmt='g', cmap=\"BuPu\", annot_kws={\"size\": 8}) \n",
        "\n",
        "  print('confusion matrix')\n",
        "  plt.show()\n",
        "\n",
        "  # print('model.classes_: ', model.classes_)\n",
        "  # print('model.coef_: ', model.coef_)\n",
        "  # print('model.intercept_: ', model.intercept_)\n",
        "  # print('model.n_iter_: ', model.n_iter_)\n",
        "\n",
        "  execution_time = (time.time() - start_time)/60\n",
        "  now = datetime.datetime.now(pytz.timezone('Asia/Jakarta')).time()\n",
        "  print(\"execution time: %s minutes\" % execution_time)\n",
        "  print(\"finished at: \", now)\n",
        "\n",
        "  model_name = 'model_sastrawi_{}.pkl'.format(fold_counter)\n",
        "  pickle.dump(model, open(model_name,'wb'))\n",
        "\n",
        "  fold_counter += 1"
      ],
      "execution_count": 15,
      "outputs": [
        {
          "output_type": "stream",
          "text": [
            "\n",
            "==================================\n",
            "\n",
            "Fold: 1\n",
            "\n",
            "\n"
          ],
          "name": "stdout"
        },
        {
          "output_type": "stream",
          "text": [
            "/usr/local/lib/python3.6/dist-packages/sklearn/linear_model/_stochastic_gradient.py:557: ConvergenceWarning: Maximum number of iteration reached before convergence. Consider increasing max_iter to improve the fit.\n",
            "  ConvergenceWarning)\n"
          ],
          "name": "stderr"
        },
        {
          "output_type": "stream",
          "text": [
            "test_accuracy:  79.42857142857143\n",
            "test_fmeasure:  0.7944415081042987\n",
            "\n",
            "\n",
            "confusion matrix\n"
          ],
          "name": "stdout"
        },
        {
          "output_type": "display_data",
          "data": {
            "image/png": "[encoded data removed]",
            "text/plain": [
              "<Figure size 576x360 with 2 Axes>"
            ]
          },
          "metadata": {
            "tags": [],
            "needs_background": "light"
          }
        },
        {
          "output_type": "stream",
          "text": [
            "execution time: 4.995274349053701 minutes\n",
            "finished at:  09:18:01.297627\n"
          ],
          "name": "stdout"
        }
      ]
    }
  ]
}